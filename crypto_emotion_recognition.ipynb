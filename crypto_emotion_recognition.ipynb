{
 "cells": [
  {
   "cell_type": "code",
   "execution_count": 1,
   "metadata": {},
   "outputs": [
    {
     "name": "stderr",
     "output_type": "stream",
     "text": [
      "/anaconda3/lib/python3.6/site-packages/h5py/__init__.py:36: FutureWarning: Conversion of the second argument of issubdtype from `float` to `np.floating` is deprecated. In future, it will be treated as `np.float64 == np.dtype(float).type`.\n",
      "  from ._conv import register_converters as _register_converters\n",
      "Using TensorFlow backend.\n"
     ]
    }
   ],
   "source": [
    "import numpy as np\n",
    "import pandas as pd\n",
    "from keras.preprocessing.text import Tokenizer\n",
    "from keras.preprocessing.sequence import pad_sequences\n",
    "from keras.utils import to_categorical\n",
    "from keras.models import Sequential\n",
    "from keras.layers import Dense, LSTM, Embedding, Bidirectional, Input, Dropout\n",
    "from keras.optimizers import Adam, RMSprop\n",
    "from sklearn.metrics import f1_score\n",
    "from keras.regularizers import l2\n",
    "np.random.seed(7)"
   ]
  },
  {
   "cell_type": "code",
   "execution_count": 2,
   "metadata": {},
   "outputs": [],
   "source": [
    "MAX_SEQUENCE_LENGTH = 20\n",
    "MAX_NB_WORDS = 10000\n",
    "EMBEDDING_DIM = 300"
   ]
  },
  {
   "cell_type": "code",
   "execution_count": 3,
   "metadata": {},
   "outputs": [],
   "source": [
    "data = pd.read_csv(\"bitcoin_data.csv\")"
   ]
  },
  {
   "cell_type": "code",
   "execution_count": 4,
   "metadata": {},
   "outputs": [
    {
     "data": {
      "text/html": [
       "<div>\n",
       "<style scoped>\n",
       "    .dataframe tbody tr th:only-of-type {\n",
       "        vertical-align: middle;\n",
       "    }\n",
       "\n",
       "    .dataframe tbody tr th {\n",
       "        vertical-align: top;\n",
       "    }\n",
       "\n",
       "    .dataframe thead th {\n",
       "        text-align: right;\n",
       "    }\n",
       "</style>\n",
       "<table border=\"1\" class=\"dataframe\">\n",
       "  <thead>\n",
       "    <tr style=\"text-align: right;\">\n",
       "      <th></th>\n",
       "      <th>Timestamp</th>\n",
       "      <th>Username</th>\n",
       "      <th>Label</th>\n",
       "      <th>Tweet</th>\n",
       "      <th>URL</th>\n",
       "    </tr>\n",
       "  </thead>\n",
       "  <tbody>\n",
       "    <tr>\n",
       "      <th>0</th>\n",
       "      <td>March 14, 2018 at 09:47PM</td>\n",
       "      <td>@RizkyF_404</td>\n",
       "      <td>spam</td>\n",
       "      <td>RT @kickcity_io: Token Kart added KickCity to ...</td>\n",
       "      <td>http://twitter.com/RizkyF_404/status/973903509...</td>\n",
       "    </tr>\n",
       "    <tr>\n",
       "      <th>1</th>\n",
       "      <td>March 14, 2018 at 09:47PM</td>\n",
       "      <td>@exchangebutler</td>\n",
       "      <td>spam</td>\n",
       "      <td>RT @Denaro_io: Our support team is here to hel...</td>\n",
       "      <td>http://twitter.com/exchangebutler/status/97390...</td>\n",
       "    </tr>\n",
       "    <tr>\n",
       "      <th>2</th>\n",
       "      <td>March 14, 2018 at 09:47PM</td>\n",
       "      <td>@Bilalbinsaqib</td>\n",
       "      <td>pos</td>\n",
       "      <td>$eth trendline broke\\nnext support @600 and th...</td>\n",
       "      <td>http://twitter.com/Bilalbinsaqib/status/973903...</td>\n",
       "    </tr>\n",
       "    <tr>\n",
       "      <th>3</th>\n",
       "      <td>March 14, 2018 at 09:47PM</td>\n",
       "      <td>@ahsen_soydan</td>\n",
       "      <td>spam</td>\n",
       "      <td>RT @ahsen_soydanvip: 💎 High Quality Partner ✔️...</td>\n",
       "      <td>http://twitter.com/ahsen_soydan/status/9739035...</td>\n",
       "    </tr>\n",
       "    <tr>\n",
       "      <th>4</th>\n",
       "      <td>March 14, 2018 at 09:47PM</td>\n",
       "      <td>@mourneopened</td>\n",
       "      <td>hype</td>\n",
       "      <td>RT @izx_io: IZETEX is on the Battle of the Cry...</td>\n",
       "      <td>http://twitter.com/mourneopened/status/9739035...</td>\n",
       "    </tr>\n",
       "  </tbody>\n",
       "</table>\n",
       "</div>"
      ],
      "text/plain": [
       "                   Timestamp         Username Label  \\\n",
       "0  March 14, 2018 at 09:47PM      @RizkyF_404  spam   \n",
       "1  March 14, 2018 at 09:47PM  @exchangebutler  spam   \n",
       "2  March 14, 2018 at 09:47PM   @Bilalbinsaqib   pos   \n",
       "3  March 14, 2018 at 09:47PM    @ahsen_soydan  spam   \n",
       "4  March 14, 2018 at 09:47PM    @mourneopened  hype   \n",
       "\n",
       "                                               Tweet  \\\n",
       "0  RT @kickcity_io: Token Kart added KickCity to ...   \n",
       "1  RT @Denaro_io: Our support team is here to hel...   \n",
       "2  $eth trendline broke\\nnext support @600 and th...   \n",
       "3  RT @ahsen_soydanvip: 💎 High Quality Partner ✔️...   \n",
       "4  RT @izx_io: IZETEX is on the Battle of the Cry...   \n",
       "\n",
       "                                                 URL  \n",
       "0  http://twitter.com/RizkyF_404/status/973903509...  \n",
       "1  http://twitter.com/exchangebutler/status/97390...  \n",
       "2  http://twitter.com/Bilalbinsaqib/status/973903...  \n",
       "3  http://twitter.com/ahsen_soydan/status/9739035...  \n",
       "4  http://twitter.com/mourneopened/status/9739035...  "
      ]
     },
     "execution_count": 4,
     "metadata": {},
     "output_type": "execute_result"
    }
   ],
   "source": [
    "data.head()"
   ]
  },
  {
   "cell_type": "code",
   "execution_count": 5,
   "metadata": {},
   "outputs": [],
   "source": [
    "data = pd.DataFrame.dropna(data)\n",
    "data = pd.DataFrame.drop_duplicates(data)"
   ]
  },
  {
   "cell_type": "code",
   "execution_count": 6,
   "metadata": {},
   "outputs": [],
   "source": [
    "data = data[data.Label != 'neutral']"
   ]
  },
  {
   "cell_type": "markdown",
   "metadata": {},
   "source": [
    "## Multi-class classification system with 5 classes"
   ]
  },
  {
   "cell_type": "code",
   "execution_count": 7,
   "metadata": {},
   "outputs": [
    {
     "name": "stdout",
     "output_type": "stream",
     "text": [
      "5\n",
      "1338\n"
     ]
    }
   ],
   "source": [
    "print(len(data.Label.unique()))\n",
    "print(len(data))"
   ]
  },
  {
   "cell_type": "markdown",
   "metadata": {},
   "source": [
    "### Let's count"
   ]
  },
  {
   "cell_type": "code",
   "execution_count": 8,
   "metadata": {},
   "outputs": [
    {
     "name": "stdout",
     "output_type": "stream",
     "text": [
      "Label\n",
      "doom     62\n",
      "hype    177\n",
      "neg      91\n",
      "pos     211\n",
      "spam    797\n",
      "dtype: int64\n"
     ]
    },
    {
     "data": {
      "text/plain": [
       "<matplotlib.axes._subplots.AxesSubplot at 0x1a1ab9f400>"
      ]
     },
     "execution_count": 8,
     "metadata": {},
     "output_type": "execute_result"
    },
    {
     "data": {
      "image/png": "[encoded data removed]",
      "text/plain": [
       "<matplotlib.figure.Figure at 0x1a1974df28>"
      ]
     },
     "metadata": {},
     "output_type": "display_data"
    }
   ],
   "source": [
    "print(data.groupby('Label').size())\n",
    "%matplotlib inline\n",
    "import matplotlib as plt\n",
    "data['Label'].value_counts().plot(kind=\"bar\")"
   ]
  },
  {
   "cell_type": "markdown",
   "metadata": {},
   "source": [
    "So first of all, this is really bad. Highly imbalanced classes. I read around 2500 tweets, from which I labeled only 1338 that seemed somewhat clear to me. This was the natural ratio. This huge amount of spam is obviously not good, but since we will set the volume of tweets as a separate feature we will keep this for now, just for the proof of concept. Put on TODO list: Get more data!!"
   ]
  },
  {
   "cell_type": "code",
   "execution_count": 9,
   "metadata": {},
   "outputs": [],
   "source": [
    "texts = data[\"Tweet\"].values\n",
    "labels = data[\"Label\"].values"
   ]
  },
  {
   "cell_type": "markdown",
   "metadata": {},
   "source": [
    "## Cleaning tweets"
   ]
  },
  {
   "cell_type": "code",
   "execution_count": 10,
   "metadata": {},
   "outputs": [],
   "source": [
    "# stemming + stopword_removal\n",
    "\n",
    "import re\n",
    "from nltk.corpus import stopwords\n",
    "\n",
    "text = []\n",
    "for i in range(0, len(texts)):\n",
    "    tweet = re.sub('@([A-Za-z_]+)', ' ', texts[i]) # replace usernames with a whitespace\n",
    "    tweet = re.sub('http([:/A-Za-z0-9_.]+)', ' ', tweet) # replace urls with a whitespace\n",
    "    tweet = re.sub('https([:/A-Za-z0-9_.]+)', ' ', tweet) # replace urls with a whitespace\n",
    "    tweet = re.sub('www([:/A-Za-z0-9_.]+)', ' ', tweet) # replace urls with a whitespace\n",
    "    tweet = re.sub('[^a-zA-Z0-9.:_!?\\-\\(\\)]', ' ', tweet) # replace everything that is not in the selection with a whitespac\n",
    "    tweet = re.sub('(\\s+)', ' ', tweet).lower().split() # replace multiple whitespaces with one whitespace, lowercase everything\n",
    "    tweet = [word for word in tweet if not word in set(stopwords.words('english'))] # remove stopwords\n",
    "    tweet = ' '.join(tweet)\n",
    "    text.append(tweet)\n",
    "    \n",
    "text = np.asarray(text)\n"
   ]
  },
  {
   "cell_type": "code",
   "execution_count": 11,
   "metadata": {},
   "outputs": [
    {
     "name": "stdout",
     "output_type": "stream",
     "text": [
      "Found 5148 unique tokens.\n"
     ]
    }
   ],
   "source": [
    "# tokenizing and sequencing\n",
    "\n",
    "tokenizer = Tokenizer(num_words=MAX_NB_WORDS)\n",
    "tokenizer.fit_on_texts(text)\n",
    "sequences = tokenizer.texts_to_sequences(text)\n",
    "\n",
    "word_index = tokenizer.word_index\n",
    "print('Found %s unique tokens.' % len(word_index))"
   ]
  },
  {
   "cell_type": "code",
   "execution_count": 12,
   "metadata": {},
   "outputs": [],
   "source": [
    "df = pad_sequences(sequences, maxlen=MAX_SEQUENCE_LENGTH)"
   ]
  },
  {
   "cell_type": "code",
   "execution_count": 13,
   "metadata": {},
   "outputs": [],
   "source": [
    "target_names = data.Label.unique() # list of label ids\n",
    "target_dict = {n:i for i, n in enumerate(target_names)} # list of label names\n",
    "labels = data.Label.map(target_dict)\n",
    "labels = to_categorical(np.asarray(labels))"
   ]
  },
  {
   "cell_type": "code",
   "execution_count": 14,
   "metadata": {
    "scrolled": true
   },
   "outputs": [
    {
     "data": {
      "text/plain": [
       "{'doom': 4, 'hype': 2, 'neg': 3, 'pos': 1, 'spam': 0}"
      ]
     },
     "execution_count": 14,
     "metadata": {},
     "output_type": "execute_result"
    }
   ],
   "source": [
    "target_dict"
   ]
  },
  {
   "cell_type": "code",
   "execution_count": 15,
   "metadata": {},
   "outputs": [
    {
     "name": "stdout",
     "output_type": "stream",
     "text": [
      "Shape of data tensor: (1338, 5)\n",
      "Shape of label tensor: (1338, 5)\n"
     ]
    }
   ],
   "source": [
    "print('Shape of data tensor:', data.shape)\n",
    "print('Shape of label tensor:', labels.shape)"
   ]
  },
  {
   "cell_type": "markdown",
   "metadata": {},
   "source": [
    "### Looks good so far. Let's shuffle a bit and split our X and y in 0.8 train and 0.2 test."
   ]
  },
  {
   "cell_type": "code",
   "execution_count": 16,
   "metadata": {},
   "outputs": [],
   "source": [
    "indices = np.arange(df.shape[0])\n",
    "np.random.shuffle(indices)\n",
    "data = df[indices]\n",
    "labels = labels[indices]"
   ]
  },
  {
   "cell_type": "code",
   "execution_count": 17,
   "metadata": {},
   "outputs": [],
   "source": [
    "X = data\n",
    "y = labels"
   ]
  },
  {
   "cell_type": "code",
   "execution_count": 18,
   "metadata": {},
   "outputs": [],
   "source": [
    "# split\n",
    "from sklearn.model_selection import train_test_split\n",
    "X_train, X_test, y_train, y_test = train_test_split(data, labels, test_size=0.2, random_state=0)"
   ]
  },
  {
   "cell_type": "markdown",
   "metadata": {},
   "source": [
    "## Pre-training on Glove embeddings"
   ]
  },
  {
   "cell_type": "code",
   "execution_count": 19,
   "metadata": {},
   "outputs": [
    {
     "name": "stdout",
     "output_type": "stream",
     "text": [
      "Found 400000 word vectors.\n",
      "Found 1205 unknown words.\n"
     ]
    }
   ],
   "source": [
    "# embedding matrx\n",
    "embeddings_index = {}\n",
    "f = open('/Users/suzana/Downloads/glove.6B.300d.txt')\n",
    "for line in f:\n",
    "    values = line.split()\n",
    "    word = values[0]\n",
    "    coefs = np.asarray(values[1:], dtype='float32')\n",
    "    embeddings_index[word] = coefs\n",
    "f.close()\n",
    "\n",
    "print('Found %s word vectors.' % len(embeddings_index))\n",
    "\n",
    "# embedding matrix\n",
    "count = 0\n",
    "embedding_matrix = np.zeros((len(word_index) + 1, EMBEDDING_DIM))\n",
    "#embedding_matrix = np.random.uniform(size=(len(word_index) + 1, EMBEDDING_DIM),low=-0.1, high=0.1)\n",
    "for word, index in word_index.items():\n",
    "    embedding_vector = embeddings_index.get(word)\n",
    "    if embedding_vector is not None:\n",
    "        # words not found in embedding index will be all-zeros. other embedding matrix: low=-0.1, high=0.1\n",
    "        embedding_matrix[index] = embedding_vector\n",
    "    else:\n",
    "        count += 1\n",
    "print('Found %s unknown words.' % count) \n",
    "\n",
    "\n",
    "# embedding layer\n",
    "embedding_layer = Embedding(len(word_index) + 1,\n",
    "                            EMBEDDING_DIM,\n",
    "                            weights=[embedding_matrix],\n",
    "                            input_length=MAX_SEQUENCE_LENGTH,\n",
    "                            trainable=True) "
   ]
  },
  {
   "cell_type": "code",
   "execution_count": 20,
   "metadata": {},
   "outputs": [],
   "source": [
    "# build model\n",
    "model = Sequential()\n",
    "model.add(embedding_layer)\n",
    "model.add(Dropout(0.3))\n",
    "model.add(Bidirectional(LSTM(128, recurrent_dropout=0.3)))\n",
    "model.add(Dropout(0.3))\n",
    "model.add(Dense(len(target_names), activation='softmax'))\n",
    "model.compile(loss='categorical_crossentropy', optimizer=Adam(lr=0.001), metrics=['acc'])"
   ]
  },
  {
   "cell_type": "code",
   "execution_count": 21,
   "metadata": {},
   "outputs": [
    {
     "name": "stdout",
     "output_type": "stream",
     "text": [
      "Train on 1070 samples, validate on 268 samples\n",
      "Epoch 1/4\n",
      "1070/1070 [==============================] - 6s 5ms/step - loss: 1.1679 - acc: 0.5729 - val_loss: 1.0303 - val_acc: 0.6493\n",
      "Epoch 2/4\n",
      "1070/1070 [==============================] - 4s 3ms/step - loss: 0.9159 - acc: 0.6439 - val_loss: 1.0420 - val_acc: 0.6306\n",
      "Epoch 3/4\n",
      "1070/1070 [==============================] - 4s 3ms/step - loss: 0.7683 - acc: 0.7168 - val_loss: 1.0771 - val_acc: 0.6119\n",
      "Epoch 4/4\n",
      "1070/1070 [==============================] - 4s 4ms/step - loss: 0.6095 - acc: 0.7832 - val_loss: 1.0401 - val_acc: 0.6343\n"
     ]
    },
    {
     "data": {
      "text/plain": [
       "<keras.callbacks.History at 0x1a2f007d68>"
      ]
     },
     "execution_count": 21,
     "metadata": {},
     "output_type": "execute_result"
    }
   ],
   "source": [
    "model.fit(X_train, y_train,\n",
    "          batch_size=32,\n",
    "          epochs=4, validation_data=(X_test, y_test))"
   ]
  },
  {
   "cell_type": "code",
   "execution_count": 22,
   "metadata": {},
   "outputs": [
    {
     "name": "stdout",
     "output_type": "stream",
     "text": [
      "             precision    recall  f1-score   support\n",
      "\n",
      "          0      0.810     0.830     0.820       159\n",
      "          1      0.323     0.467     0.382        45\n",
      "          2      0.448     0.433     0.441        30\n",
      "          3      0.400     0.125     0.190        16\n",
      "          4      0.333     0.111     0.167        18\n",
      "\n",
      "avg / total      0.631     0.634     0.622       268\n",
      "\n"
     ]
    }
   ],
   "source": [
    "y_pred = model.predict(X_test)\n",
    "y_test_class = np.argmax(y_test, axis=1)\n",
    "y_pred_class = np.argmax(y_pred, axis=1)\n",
    "\n",
    "from sklearn.metrics import classification_report\n",
    "print(classification_report(y_test_class, y_pred_class, digits=3))"
   ]
  },
  {
   "cell_type": "code",
   "execution_count": 23,
   "metadata": {},
   "outputs": [
    {
     "name": "stdout",
     "output_type": "stream",
     "text": [
      "{'spam': 0, 'pos': 1, 'hype': 2, 'neg': 3, 'doom': 4}\n"
     ]
    }
   ],
   "source": [
    "print(target_dict)"
   ]
  },
  {
   "cell_type": "markdown",
   "metadata": {},
   "source": [
    "#### RECAP"
   ]
  },
  {
   "cell_type": "markdown",
   "metadata": {},
   "source": [
    "Well, fair enough. That is as expected not a very satisfying result. Loss is unstable and the acc is much higher than val acc. We have a couple of things on our TODO list:\n",
    "* Thorough cleaning (strip off all those urls, usernames and other useless stuff)\n",
    "* Balance imbalanced classes\n",
    "* This architecture works definitely better (+3.1%) than a gridsearched SVM, that I built earlier, however maybe the hyperparamters are not optimal\n",
    "* Get more data! Especially the important categories: hype and doom. For sentiment we can always add a transferlearning arlgorithm that learns representations from a much larger traditional sentiment corpus"
   ]
  }
 ],
 "metadata": {
  "kernelspec": {
   "display_name": "Python 3",
   "language": "python",
   "name": "python3"
  },
  "language_info": {
   "codemirror_mode": {
    "name": "ipython",
    "version": 3
   },
   "file_extension": ".py",
   "mimetype": "text/x-python",
   "name": "python",
   "nbconvert_exporter": "python",
   "pygments_lexer": "ipython3",
   "version": "3.6.4"
  }
 },
 "nbformat": 4,
 "nbformat_minor": 2
}
